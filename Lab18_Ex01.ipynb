{
 "cells": [
  {
   "cell_type": "markdown",
   "metadata": {
    "polyglot_notebook": {
     "kernelName": "csharp"
    }
   },
   "source": [
    "# Lab 18 Exercise 1"
   ]
  },
  {
   "cell_type": "markdown",
   "metadata": {},
   "source": [
    "## Generic"
   ]
  },
  {
   "cell_type": "markdown",
   "metadata": {},
   "source": [
    "1.สร้าง console application project\n",
    "\n",
    "```cmd\n",
    "dotnet new console --name Lab18_Ex01\n",
    "```"
   ]
  },
  {
   "cell_type": "markdown",
   "metadata": {},
   "source": [
    "2.เปลี่ยน code ให้เป็นดังต่อไปนี้\n",
    "\n",
    "```csharp\n",
    "var IntCal  = new Calculator<int>();\n",
    "var IntResult = IntCal.Add(2,3);\n",
    "System.Console.WriteLine(IntResult);\n",
    "System.Console.WriteLine(\"Type of IntCal is \"+ IntCal.GetType());\n",
    "\n",
    "var FloatCal  = new Calculator<float>();\n",
    "var FloatResult = FloatCal.Add(2.5f, 3f);\n",
    "System.Console.WriteLine(FloatResult);\n",
    "System.Console.WriteLine(\"Type of IntCal is \"+ FloatCal.GetType());\n",
    "\n",
    "class Calculator<T>\n",
    "{\n",
    "    public T Add(T a, T b)\n",
    "    {\n",
    "        dynamic? number1 = a;\n",
    "        dynamic? number2 = b;\n",
    "        return number1 + number2;\n",
    "    }\n",
    "}\n",
    "```"
   ]
  },
  {
   "cell_type": "markdown",
   "metadata": {},
   "source": [
    "3.Build project โดยการใช้คำสั่ง\n",
    "\n",
    "```cmd\n",
    "dotnet build  Lab18_Ex01\n",
    "```\n",
    "\n",
    "ถ้ามีที่ผิดพลาดในโปรแกรม ให้แก้ไขให้ถูกต้อง"
   ]
  },
  {
   "cell_type": "markdown",
   "metadata": {},
   "source": [
    "4.บันทึกผลที่ได้จากการรันคำสั่งในข้อ 3"
   ]
  },
  {
   "cell_type": "markdown",
   "metadata": {},
   "source": [
    "Restore complete (0.3s)\n",
    "  Lab18_Ex01 succeeded (0.4s) → Lab18_Ex01\\bin\\Debug\\net9.0\\Lab18_Ex01.dll\n",
    "\n",
    "Build succeeded in 1.2s"
   ]
  },
  {
   "cell_type": "markdown",
   "metadata": {},
   "source": [
    "5.Run project โดยการใช้คำสั่ง\n",
    "\n",
    "```cmd\n",
    "dotnet run --project Lab18_Ex01\n",
    "```"
   ]
  },
  {
   "cell_type": "code",
   "execution_count": 1,
   "metadata": {
    "polyglot_notebook": {
     "kernelName": "csharp"
    }
   },
   "outputs": [
    {
     "name": "stdout",
     "output_type": "stream",
     "text": [
      "5\n",
      "Type of IntCal is Submission#1+Calculator`1[System.Int32]\n",
      "5.5\n",
      "Type of IntCal is Submission#1+Calculator`1[System.Single]\n"
     ]
    }
   ],
   "source": [
    "var IntCal  = new Calculator<int>();\n",
    "var IntResult = IntCal.Add(2,3);\n",
    "System.Console.WriteLine(IntResult);\n",
    "System.Console.WriteLine(\"Type of IntCal is \"+ IntCal.GetType());\n",
    "\n",
    "var FloatCal  = new Calculator<float>();\n",
    "var FloatResult = FloatCal.Add(2.5f, 3f);\n",
    "System.Console.WriteLine(FloatResult);\n",
    "System.Console.WriteLine(\"Type of IntCal is \"+ FloatCal.GetType());\n",
    "\n",
    "class Calculator<T>\n",
    "{\n",
    "    public T Add(T a, T b)\n",
    "    {\n",
    "        dynamic? number1 = a;\n",
    "        dynamic? number2 = b;\n",
    "        return number1 + number2;\n",
    "    }\n",
    "}"
   ]
  },
  {
   "cell_type": "markdown",
   "metadata": {},
   "source": [
    "6.บันทึกผลที่ได้จากการรันคำสั่งในข้อ 5"
   ]
  },
  {
   "cell_type": "markdown",
   "metadata": {},
   "source": [
    "5\n",
    "Type of IntCal is Submission#1+Calculator`1[System.Int32]\n",
    "5.5\n",
    "Type of IntCal is Submission#1+Calculator`1[System.Single]"
   ]
  },
  {
   "cell_type": "markdown",
   "metadata": {},
   "source": [
    "7.อธิบายสิ่งที่พบในการทดลอง"
   ]
  }
 ],
 "metadata": {
  "kernelspec": {
   "display_name": ".NET (C#)",
   "language": "C#",
   "name": ".net-csharp"
  },
  "polyglot_notebook": {
   "kernelInfo": {
    "defaultKernelName": "csharp",
    "items": [
     {
      "aliases": [],
      "languageName": "csharp",
      "name": "csharp"
     }
    ]
   }
  }
 },
 "nbformat": 4,
 "nbformat_minor": 2
}
